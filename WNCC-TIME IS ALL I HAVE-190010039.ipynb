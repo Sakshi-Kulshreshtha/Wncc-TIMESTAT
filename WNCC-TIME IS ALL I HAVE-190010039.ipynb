{
 "cells": [
  {
   "cell_type": "markdown",
   "metadata": {},
   "source": [
    "## WNCC-TIME IS ALL I HAVE"
   ]
  },
  {
   "cell_type": "code",
   "execution_count": 92,
   "metadata": {},
   "outputs": [
    {
     "name": "stdout",
     "output_type": "stream",
     "text": [
      "Populating the interactive namespace from numpy and matplotlib\n"
     ]
    }
   ],
   "source": [
    "%pylab inline"
   ]
  },
  {
   "cell_type": "markdown",
   "metadata": {},
   "source": [
    "### OPENING AND READING THE FILE \"timestat.txt\""
   ]
  },
  {
   "cell_type": "code",
   "execution_count": 93,
   "metadata": {},
   "outputs": [],
   "source": [
    "f=open('timestat.txt') #opening the file timestep.txt"
   ]
  },
  {
   "cell_type": "code",
   "execution_count": 94,
   "metadata": {},
   "outputs": [
    {
     "name": "stdout",
     "output_type": "stream",
     "text": [
      "\n",
      "real    0m0.284s\n",
      "user    0m0.279s\n",
      "sys 0m0.005s\n",
      "\n",
      "real    0m0.274s\n",
      "user    0m0.272s\n",
      "sys 0m0.000s\n",
      "\n",
      "real    0m0.271s\n",
      "user    0m0.271s\n",
      "sys 0m0.000s\n",
      "\n",
      "real    0m0.278s\n",
      "user    0m0.268s\n",
      "sys 0m0.008s\n",
      "\n",
      "real    0m0.272s\n",
      "user    0m0.272s\n",
      "sys 0m0.000s\n",
      "\n",
      "real    0m0.275s\n",
      "user    0m0.269s\n",
      "sys 0m0.004s\n",
      "\n",
      "real    0m0.271s\n",
      "user    0m0.267s\n",
      "sys 0m0.004s\n",
      "\n",
      "real    0m0.273s\n",
      "user    0m0.267s\n",
      "sys 0m0.004s\n",
      "\n",
      "real    0m0.273s\n",
      "user    0m0.273s\n",
      "sys 0m0.000s\n",
      "\n",
      "real    0m0.272s\n",
      "user    0m0.271s\n",
      "sys 0m0.000s\n",
      "\n",
      "real    0m0.305s\n",
      "user    0m0.301s\n",
      "sys 0m0.004s\n",
      "\n",
      "real    0m0.272s\n",
      "user    0m0.266s\n",
      "sys 0m0.004s\n",
      "\n",
      "real    0m0.272s\n",
      "user    0m0.272s\n",
      "sys 0m0.000s\n",
      "\n",
      "real    0m0.286s\n",
      "user    0m0.280s\n",
      "sys 0m0.004s\n",
      "\n",
      "real    0m0.272s\n",
      "user    0m0.272s\n",
      "sys 0m0.000s\n",
      "\n",
      "real    0m1.674s\n",
      "user    0m0.302s\n",
      "sys 0m0.004s\n",
      "\n",
      "real    0m0.274s\n",
      "user    0m0.268s\n",
      "sys 0m0.004s\n",
      "\n",
      "real    0m0.271s\n",
      "user    0m0.271s\n",
      "sys 0m0.000s\n",
      "\n",
      "real    0m0.274s\n",
      "user    0m0.271s\n",
      "sys 0m0.000s\n",
      "\n",
      "real    0m0.272s\n",
      "user    0m0.272s\n",
      "sys 0m0.000s\n",
      "\n",
      "real    0m0.303s\n",
      "user    0m0.298s\n",
      "sys 0m0.005s\n",
      "\n",
      "real    0m0.274s\n",
      "user    0m0.268s\n",
      "sys 0m0.004s\n",
      "\n",
      "real    0m0.271s\n",
      "user    0m0.267s\n",
      "sys 0m0.004s\n",
      "\n",
      "real    0m0.273s\n",
      "user    0m0.268s\n",
      "sys 0m0.004s\n",
      "\n",
      "real    0m0.272s\n",
      "user    0m0.272s\n",
      "sys 0m0.000s\n",
      "\n",
      "real    0m0.274s\n",
      "user    0m0.272s\n",
      "sys 0m0.000s\n",
      "\n",
      "real    0m0.274s\n",
      "user    0m0.271s\n",
      "sys 0m0.004s\n",
      "\n",
      "real    0m0.277s\n",
      "user    0m0.274s\n",
      "sys 0m0.000s\n",
      "\n",
      "real    0m0.271s\n",
      "user    0m0.267s\n",
      "sys 0m0.004s\n",
      "\n",
      "real    0m0.274s\n",
      "user    0m0.271s\n",
      "sys 0m0.000s\n",
      "\n",
      "real    0m0.304s\n",
      "user    0m0.297s\n",
      "sys 0m0.008s\n",
      "\n",
      "real    0m0.280s\n",
      "user    0m0.263s\n",
      "sys 0m0.012s\n",
      "\n",
      "real    0m0.273s\n",
      "user    0m0.269s\n",
      "sys 0m0.004s\n",
      "\n",
      "real    0m0.274s\n",
      "user    0m0.272s\n",
      "sys 0m0.000s\n",
      "\n",
      "real    0m0.273s\n",
      "user    0m0.269s\n",
      "sys 0m0.004s\n",
      "\n",
      "real    0m0.274s\n",
      "user    0m0.272s\n",
      "sys 0m0.000s\n",
      "\n",
      "real    0m0.272s\n",
      "user    0m0.272s\n",
      "sys 0m0.000s\n",
      "\n",
      "real    0m0.275s\n",
      "user    0m0.272s\n",
      "sys 0m0.000s\n",
      "\n",
      "real    0m0.271s\n",
      "user    0m0.267s\n",
      "sys 0m0.004s\n",
      "\n",
      "real    0m0.275s\n",
      "user    0m0.265s\n",
      "sys 0m0.008s\n",
      "\n",
      "real    0m0.306s\n",
      "user    0m0.306s\n",
      "sys 0m0.001s\n",
      "\n",
      "real    0m0.612s\n",
      "user    0m0.295s\n",
      "sys 0m0.008s\n",
      "\n",
      "real    0m0.275s\n",
      "user    0m0.269s\n",
      "sys 0m0.004s\n",
      "\n",
      "real    0m0.270s\n",
      "user    0m0.266s\n",
      "sys 0m0.004s\n",
      "\n",
      "real    0m0.270s\n",
      "user    0m0.266s\n",
      "sys 0m0.004s\n",
      "\n",
      "real    0m0.273s\n",
      "user    0m0.271s\n",
      "sys 0m0.000s\n",
      "\n",
      "real    0m0.272s\n",
      "user    0m0.268s\n",
      "sys 0m0.004s\n",
      "\n",
      "real    0m0.275s\n",
      "user    0m0.265s\n",
      "sys 0m0.008s\n",
      "\n",
      "real    0m0.272s\n",
      "user    0m0.272s\n",
      "sys 0m0.000s\n",
      "\n",
      "real    0m0.273s\n",
      "user    0m0.267s\n",
      "sys 0m0.004s\n",
      "\n",
      "real    0m0.305s\n",
      "user    0m0.301s\n",
      "sys 0m0.004s\n",
      "\n",
      "real    0m0.274s\n",
      "user    0m0.272s\n",
      "sys 0m0.000s\n",
      "\n",
      "real    0m0.272s\n",
      "user    0m0.268s\n",
      "sys 0m0.004s\n",
      "\n",
      "real    0m0.686s\n",
      "user    0m0.265s\n",
      "sys 0m0.008s\n",
      "\n",
      "real    0m0.276s\n",
      "user    0m0.270s\n",
      "sys 0m0.004s\n",
      "\n",
      "real    0m0.270s\n",
      "user    0m0.266s\n",
      "sys 0m0.004s\n",
      "\n",
      "real    0m0.274s\n",
      "user    0m0.268s\n",
      "sys 0m0.004s\n",
      "\n",
      "real    0m0.273s\n",
      "user    0m0.273s\n",
      "sys 0m0.000s\n",
      "\n",
      "real    0m0.273s\n",
      "user    0m0.267s\n",
      "sys 0m0.004s\n",
      "\n",
      "real    0m0.271s\n",
      "user    0m0.271s\n",
      "sys 0m0.000s\n",
      "\n",
      "real    0m0.302s\n",
      "user    0m0.298s\n",
      "sys 0m0.005s\n",
      "\n",
      "real    0m0.274s\n",
      "user    0m0.268s\n",
      "sys 0m0.004s\n",
      "\n",
      "real    0m0.270s\n",
      "user    0m0.262s\n",
      "sys 0m0.008s\n",
      "\n",
      "real    0m0.274s\n",
      "user    0m0.272s\n",
      "sys 0m0.000s\n",
      "\n",
      "real    0m0.272s\n",
      "user    0m0.264s\n",
      "sys 0m0.008s\n",
      "\n",
      "real    0m0.276s\n",
      "user    0m0.270s\n",
      "sys 0m0.004s\n",
      "\n",
      "real    0m0.271s\n",
      "user    0m0.271s\n",
      "sys 0m0.000s\n",
      "\n",
      "real    0m0.272s\n",
      "user    0m0.263s\n",
      "sys 0m0.008s\n",
      "\n",
      "real    0m0.273s\n",
      "user    0m0.273s\n",
      "sys 0m0.000s\n",
      "\n",
      "real    0m0.564s\n",
      "user    0m0.271s\n",
      "sys 0m0.000s\n",
      "\n",
      "real    0m0.303s\n",
      "user    0m0.299s\n",
      "sys 0m0.004s\n",
      "\n",
      "real    0m0.273s\n",
      "user    0m0.273s\n",
      "sys 0m0.000s\n",
      "\n",
      "real    0m0.270s\n",
      "user    0m0.266s\n",
      "sys 0m0.004s\n",
      "\n",
      "real    0m0.275s\n",
      "user    0m0.272s\n",
      "sys 0m0.000s\n",
      "\n",
      "real    0m0.272s\n",
      "user    0m0.272s\n",
      "sys 0m0.000s\n",
      "\n",
      "real    0m0.275s\n",
      "user    0m0.273s\n",
      "sys 0m0.000s\n",
      "\n",
      "real    0m0.272s\n",
      "user    0m0.267s\n",
      "sys 0m0.004s\n",
      "\n",
      "real    0m0.287s\n",
      "user    0m0.281s\n",
      "sys 0m0.004s\n",
      "\n",
      "real    0m0.272s\n",
      "user    0m0.272s\n",
      "sys 0m0.000s\n",
      "\n",
      "real    0m0.284s\n",
      "user    0m0.281s\n",
      "sys 0m0.000s\n",
      "\n",
      "real    0m0.283s\n",
      "user    0m0.275s\n",
      "sys 0m0.008s\n",
      "\n",
      "real    0m0.919s\n",
      "user    0m0.296s\n",
      "sys 0m0.008s\n",
      "\n",
      "real    0m0.279s\n",
      "user    0m0.276s\n",
      "sys 0m0.000s\n",
      "\n",
      "real    0m0.272s\n",
      "user    0m0.272s\n",
      "sys 0m0.000s\n",
      "\n",
      "real    0m1.506s\n",
      "user    0m0.289s\n",
      "sys 0m0.004s\n",
      "\n",
      "real    0m0.274s\n",
      "user    0m0.268s\n",
      "sys 0m0.004s\n",
      "\n",
      "real    0m0.272s\n",
      "user    0m0.260s\n",
      "sys 0m0.012s\n",
      "\n",
      "real    0m0.273s\n",
      "user    0m0.267s\n",
      "sys 0m0.004s\n",
      "\n",
      "real    0m0.272s\n",
      "user    0m0.272s\n",
      "sys 0m0.000s\n",
      "\n",
      "real    0m0.273s\n",
      "user    0m0.267s\n",
      "sys 0m0.004s\n",
      "\n",
      "real    0m0.283s\n",
      "user    0m0.279s\n",
      "sys 0m0.004s\n",
      "\n",
      "real    0m0.275s\n",
      "user    0m0.273s\n",
      "sys 0m0.000s\n",
      "\n",
      "real    0m0.275s\n",
      "user    0m0.267s\n",
      "sys 0m0.008s\n",
      "\n",
      "real    0m0.284s\n",
      "user    0m0.282s\n",
      "sys 0m0.000s\n",
      "\n",
      "real    0m0.273s\n",
      "user    0m0.273s\n",
      "sys 0m0.000s\n",
      "\n",
      "real    0m0.273s\n",
      "user    0m0.271s\n",
      "sys 0m0.000s\n",
      "\n",
      "real    0m0.272s\n",
      "user    0m0.268s\n",
      "sys 0m0.004s\n",
      "\n",
      "real    0m0.270s\n",
      "user    0m0.266s\n",
      "sys 0m0.004s\n",
      "\n",
      "real    0m0.273s\n",
      "user    0m0.271s\n",
      "sys 0m0.000s\n",
      "\n",
      "real    0m0.269s\n",
      "user    0m0.269s\n",
      "sys 0m0.000s\n",
      "\n"
     ]
    }
   ],
   "source": [
    "timestats=f.read() #reading the file timestat.txt\n",
    "print(timestats) #printding the data of the file"
   ]
  },
  {
   "cell_type": "code",
   "execution_count": 95,
   "metadata": {},
   "outputs": [],
   "source": [
    "atime=[]                             #an empty list for storing the elements of the file as list \n",
    "for i in open('timestat.txt'):       #lloop for reading the file line by line\n",
    "    fields=i.strip(\"\\n\\n \").strip(\"real\").strip(\"user\").strip(\"sys\").strip(\" \")\n",
    "    field=fields.split(\"\\n\")\n",
    "    atime.append(field)             #storing the real, user and sys time as strings in the list"
   ]
  },
  {
   "cell_type": "markdown",
   "metadata": {},
   "source": [
    "#### real ,user and sys part of time in separate lists as strings"
   ]
  },
  {
   "cell_type": "code",
   "execution_count": 96,
   "metadata": {},
   "outputs": [],
   "source": [
    "reals=atime[1::4]                                    #extracting the real part of time as string"
   ]
  },
  {
   "cell_type": "code",
   "execution_count": 97,
   "metadata": {},
   "outputs": [],
   "source": [
    "users=atime[2::4]                                    #extracting the user part of time as string"
   ]
  },
  {
   "cell_type": "code",
   "execution_count": 98,
   "metadata": {},
   "outputs": [],
   "source": [
    "syss=atime[3::4]                                     #extracting the sys part of time as string"
   ]
  },
  {
   "cell_type": "code",
   "execution_count": 99,
   "metadata": {},
   "outputs": [],
   "source": [
    "realz=[]\n",
    "userz=[]\n",
    "sysz=[]\n",
    "for i in range(100):   #length of the real,user and sys lists\n",
    "    li1=reals[i]\n",
    "    li2=users[i]\n",
    "    li3=syss[i]\n",
    "    for j in range(1):\n",
    "        e1=float(li1[0][2::])\n",
    "        e2=float(li2[0][2::])\n",
    "        e3=float(li3[0][2::])\n",
    "        realz.append(e1)   #storing the real part of time in a list as float values\n",
    "        userz.append(e2)   #storing the user part of time in a list as float values\n",
    "        sysz.append(e3)    #storing the sys part of time in a list as float values\n",
    "        "
   ]
  },
  {
   "cell_type": "markdown",
   "metadata": {},
   "source": [
    "#### printing real,user and sys part of time as float values in separate lists"
   ]
  },
  {
   "cell_type": "code",
   "execution_count": 100,
   "metadata": {},
   "outputs": [
    {
     "name": "stdout",
     "output_type": "stream",
     "text": [
      "[0.284, 0.274, 0.271, 0.278, 0.272, 0.275, 0.271, 0.273, 0.273, 0.272, 0.305, 0.272, 0.272, 0.286, 0.272, 1.674, 0.274, 0.271, 0.274, 0.272, 0.303, 0.274, 0.271, 0.273, 0.272, 0.274, 0.274, 0.277, 0.271, 0.274, 0.304, 0.28, 0.273, 0.274, 0.273, 0.274, 0.272, 0.275, 0.271, 0.275, 0.306, 0.612, 0.275, 0.27, 0.27, 0.273, 0.272, 0.275, 0.272, 0.273, 0.305, 0.274, 0.272, 0.686, 0.276, 0.27, 0.274, 0.273, 0.273, 0.271, 0.302, 0.274, 0.27, 0.274, 0.272, 0.276, 0.271, 0.272, 0.273, 0.564, 0.303, 0.273, 0.27, 0.275, 0.272, 0.275, 0.272, 0.287, 0.272, 0.284, 0.283, 0.919, 0.279, 0.272, 1.506, 0.274, 0.272, 0.273, 0.272, 0.273, 0.283, 0.275, 0.275, 0.284, 0.273, 0.273, 0.272, 0.27, 0.273, 0.269]\n"
     ]
    }
   ],
   "source": [
    "print(realz)"
   ]
  },
  {
   "cell_type": "markdown",
   "metadata": {},
   "source": []
  },
  {
   "cell_type": "code",
   "execution_count": 101,
   "metadata": {},
   "outputs": [
    {
     "name": "stdout",
     "output_type": "stream",
     "text": [
      "[0.279, 0.272, 0.271, 0.268, 0.272, 0.269, 0.267, 0.267, 0.273, 0.271, 0.301, 0.266, 0.272, 0.28, 0.272, 0.302, 0.268, 0.271, 0.271, 0.272, 0.298, 0.268, 0.267, 0.268, 0.272, 0.272, 0.271, 0.274, 0.267, 0.271, 0.297, 0.263, 0.269, 0.272, 0.269, 0.272, 0.272, 0.272, 0.267, 0.265, 0.306, 0.295, 0.269, 0.266, 0.266, 0.271, 0.268, 0.265, 0.272, 0.267, 0.301, 0.272, 0.268, 0.265, 0.27, 0.266, 0.268, 0.273, 0.267, 0.271, 0.298, 0.268, 0.262, 0.272, 0.264, 0.27, 0.271, 0.263, 0.273, 0.271, 0.299, 0.273, 0.266, 0.272, 0.272, 0.273, 0.267, 0.281, 0.272, 0.281, 0.275, 0.296, 0.276, 0.272, 0.289, 0.268, 0.26, 0.267, 0.272, 0.267, 0.279, 0.273, 0.267, 0.282, 0.273, 0.271, 0.268, 0.266, 0.271, 0.269]\n"
     ]
    }
   ],
   "source": [
    "(userz)"
   ]
  },
  {
   "cell_type": "code",
   "execution_count": null,
   "metadata": {},
   "outputs": [],
   "source": []
  },
  {
   "cell_type": "code",
   "execution_count": 102,
   "metadata": {},
   "outputs": [
    {
     "name": "stdout",
     "output_type": "stream",
     "text": [
      "[0.005, 0.0, 0.0, 0.008, 0.0, 0.004, 0.004, 0.004, 0.0, 0.0, 0.004, 0.004, 0.0, 0.004, 0.0, 0.004, 0.004, 0.0, 0.0, 0.0, 0.005, 0.004, 0.004, 0.004, 0.0, 0.0, 0.004, 0.0, 0.004, 0.0, 0.008, 0.012, 0.004, 0.0, 0.004, 0.0, 0.0, 0.0, 0.004, 0.008, 0.001, 0.008, 0.004, 0.004, 0.004, 0.0, 0.004, 0.008, 0.0, 0.004, 0.004, 0.0, 0.004, 0.008, 0.004, 0.004, 0.004, 0.0, 0.004, 0.0, 0.005, 0.004, 0.008, 0.0, 0.008, 0.004, 0.0, 0.008, 0.0, 0.0, 0.004, 0.0, 0.004, 0.0, 0.0, 0.0, 0.004, 0.004, 0.0, 0.0, 0.008, 0.008, 0.0, 0.0, 0.004, 0.004, 0.012, 0.004, 0.0, 0.004, 0.004, 0.0, 0.008, 0.0, 0.0, 0.0, 0.004, 0.004, 0.0, 0.0]\n"
     ]
    }
   ],
   "source": [
    "print(sysz)"
   ]
  },
  {
   "cell_type": "code",
   "execution_count": null,
   "metadata": {},
   "outputs": [],
   "source": []
  },
  {
   "cell_type": "markdown",
   "metadata": {},
   "source": [
    "### calculating average of real, user and sys part of time separately"
   ]
  },
  {
   "cell_type": "code",
   "execution_count": 103,
   "metadata": {},
   "outputs": [
    {
     "name": "stdout",
     "output_type": "stream",
     "text": [
      "0.31921999999999995\n"
     ]
    }
   ],
   "source": [
    "real_avg=sum(realz)/len(reals)\n",
    "print(real_avg)  #Average of real time"
   ]
  },
  {
   "cell_type": "code",
   "execution_count": 104,
   "metadata": {},
   "outputs": [
    {
     "name": "stdout",
     "output_type": "stream",
     "text": [
      "0.27325000000000005\n"
     ]
    }
   ],
   "source": [
    "user_avg=sum(userz)/len(users)\n",
    "print(user_avg) #Average of user time"
   ]
  },
  {
   "cell_type": "code",
   "execution_count": 105,
   "metadata": {},
   "outputs": [
    {
     "name": "stdout",
     "output_type": "stream",
     "text": [
      "0.0029600000000000004\n"
     ]
    }
   ],
   "source": [
    "sys_avg=sum(sysz)/len(syss)\n",
    "print(sys_avg)  #Average of sys time"
   ]
  },
  {
   "cell_type": "code",
   "execution_count": null,
   "metadata": {},
   "outputs": [],
   "source": []
  },
  {
   "cell_type": "markdown",
   "metadata": {},
   "source": [
    "### calculating standard deviation of real,user and sys part of time separately"
   ]
  },
  {
   "cell_type": "code",
   "execution_count": 106,
   "metadata": {},
   "outputs": [
    {
     "name": "stdout",
     "output_type": "stream",
     "text": [
      "0.20161674434431281\n"
     ]
    }
   ],
   "source": [
    "real_dev=std(realz)\n",
    "print(real_dev)  #Standard Deviation of real time"
   ]
  },
  {
   "cell_type": "code",
   "execution_count": 107,
   "metadata": {},
   "outputs": [
    {
     "name": "stdout",
     "output_type": "stream",
     "text": [
      "0.009733832749744566\n"
     ]
    }
   ],
   "source": [
    "user_dev=std(userz)\n",
    "print(user_dev)   #Standard Deviation of user time"
   ]
  },
  {
   "cell_type": "code",
   "execution_count": 108,
   "metadata": {},
   "outputs": [
    {
     "name": "stdout",
     "output_type": "stream",
     "text": [
      "0.00299305863624487\n"
     ]
    }
   ],
   "source": [
    "sys_dev=std(sysz)\n",
    "print(sys_dev)   #Standard Deviation of Sys time"
   ]
  },
  {
   "cell_type": "code",
   "execution_count": null,
   "metadata": {},
   "outputs": [],
   "source": []
  },
  {
   "cell_type": "markdown",
   "metadata": {},
   "source": [
    "### calculating Number of runs within (avg - std. dev) to (avg + std. dev) for real ,user and sys part of time "
   ]
  },
  {
   "cell_type": "code",
   "execution_count": 109,
   "metadata": {},
   "outputs": [
    {
     "name": "stdout",
     "output_type": "stream",
     "text": [
      "94\n"
     ]
    }
   ],
   "source": [
    "c1=0\n",
    "for j in realz:\n",
    "    if (j<=(real_avg+real_dev))and(j>=(real_avg-real_dev)):\n",
    "        c1+=1\n",
    "    else:\n",
    "        c1+=0\n",
    "print(c1)        #printing no. of runs of real time within (avg-std dev) to (avg+std_dev)"
   ]
  },
  {
   "cell_type": "code",
   "execution_count": 110,
   "metadata": {},
   "outputs": [
    {
     "name": "stdout",
     "output_type": "stream",
     "text": [
      "85\n"
     ]
    }
   ],
   "source": [
    "c2=0\n",
    "for j in userz:\n",
    "    if (j<=(user_avg+user_dev))and(j>=(user_avg-user_dev)):\n",
    "        c2+=1\n",
    "    else:\n",
    "        c2+=0\n",
    "print(c2)        #printing no. of runs of user time within (avg-std dev) to (avg+std_dev)"
   ]
  },
  {
   "cell_type": "code",
   "execution_count": 111,
   "metadata": {},
   "outputs": [
    {
     "name": "stdout",
     "output_type": "stream",
     "text": [
      "86\n"
     ]
    }
   ],
   "source": [
    "c3=0\n",
    "for j in sysz:\n",
    "    if (j<=(sys_avg+sys_dev))and(j>=(sys_avg-sys_dev)):\n",
    "        c3+=1\n",
    "    else:\n",
    "        c3+=0\n",
    "print(c3)       #printing no. of runs of real time within (avg-std dev) to (avg+std_dev)"
   ]
  },
  {
   "cell_type": "code",
   "execution_count": null,
   "metadata": {},
   "outputs": [],
   "source": []
  },
  {
   "cell_type": "markdown",
   "metadata": {},
   "source": [
    "## Printing the desired outputs together"
   ]
  },
  {
   "cell_type": "code",
   "execution_count": 112,
   "metadata": {},
   "outputs": [
    {
     "name": "stdout",
     "output_type": "stream",
     "text": [
      "NUMBER OF RUNS=100\n"
     ]
    }
   ],
   "source": [
    "print(\"NUMBER OF RUNS=\"+str(len(realz))) #Number of runs"
   ]
  },
  {
   "cell_type": "code",
   "execution_count": 113,
   "metadata": {},
   "outputs": [
    {
     "name": "stdout",
     "output_type": "stream",
     "text": [
      "AVERAGE TIME STATISTICS\n",
      "Real= 0.31921999999999995   User= 0.27325000000000005   System= 0.0029600000000000004\n"
     ]
    }
   ],
   "source": [
    "print(\"AVERAGE TIME STATISTICS\"+\"\\n\"+\"Real=\"+\" \"+str(real_avg)+\"   \"+\"User=\"+\" \"+str(user_avg)+\"   \"+\"System=\"+\" \"+str(sys_avg))"
   ]
  },
  {
   "cell_type": "code",
   "execution_count": 114,
   "metadata": {},
   "outputs": [
    {
     "name": "stdout",
     "output_type": "stream",
     "text": [
      "STANDARD DEVIATION OF TIME STATISTICS\n",
      "Real= 0.20161674434431281   User= 0.009733832749744566   System= 0.00299305863624487\n"
     ]
    }
   ],
   "source": [
    "print(\"STANDARD DEVIATION OF TIME STATISTICS\"+\"\\n\"+\"Real= \"+str(real_dev)+\"   \"+\"User= \"+str(user_dev)+\"   \"+\"System= \"+str(sys_dev))"
   ]
  },
  {
   "cell_type": "code",
   "execution_count": 116,
   "metadata": {},
   "outputs": [
    {
     "name": "stdout",
     "output_type": "stream",
     "text": [
      "Number of runs within (avg - std. dev) to (avg + std. dev)\n",
      "Real= 94   User= 85   System= 86\n"
     ]
    }
   ],
   "source": [
    "print(\"Number of runs within (avg - std. dev) to (avg + std. dev)\"+\"\\n\"+\"Real= \"+str(c1)+\"   \"+\"User= \"+str(c2)+\"   \"+\"System= \"+str(c3))"
   ]
  },
  {
   "cell_type": "code",
   "execution_count": null,
   "metadata": {},
   "outputs": [],
   "source": []
  },
  {
   "cell_type": "code",
   "execution_count": null,
   "metadata": {},
   "outputs": [],
   "source": []
  }
 ],
 "metadata": {
  "kernelspec": {
   "display_name": "Python 3",
   "language": "python",
   "name": "python3"
  },
  "language_info": {
   "codemirror_mode": {
    "name": "ipython",
    "version": 3
   },
   "file_extension": ".py",
   "mimetype": "text/x-python",
   "name": "python",
   "nbconvert_exporter": "python",
   "pygments_lexer": "ipython3",
   "version": "3.7.4"
  }
 },
 "nbformat": 4,
 "nbformat_minor": 2
}
